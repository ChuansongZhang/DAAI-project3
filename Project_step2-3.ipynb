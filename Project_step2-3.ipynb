{
 "cells": [
  {
   "cell_type": "code",
   "execution_count": null,
   "metadata": {
    "id": "84mieD1HlG19"
   },
   "outputs": [],
   "source": [
    "from google.colab import drive\n",
    "drive.mount(\"/content/drive/\", force_remount=True)"
   ]
  },
  {
   "cell_type": "code",
   "execution_count": null,
   "metadata": {
    "id": "NiftplZ8lSrc"
   },
   "outputs": [],
   "source": [
    "cd /content/drive/MyDrive/"
   ]
  },
  {
   "cell_type": "markdown",
   "source": [
    "Download the pytorch-lightning/wandb packages"
   ],
   "metadata": {
    "collapsed": false,
    "id": "wBDzOQ88OvGm"
   }
  },
  {
   "cell_type": "code",
   "execution_count": null,
   "metadata": {
    "id": "jSdNzxWGZI3i"
   },
   "outputs": [],
   "source": [
    "!pip install git+https://github.com/PyTorchLightning/pytorch-lightning"
   ]
  },
  {
   "cell_type": "code",
   "execution_count": null,
   "metadata": {
    "id": "MwUAf4AaF8s-"
   },
   "outputs": [],
   "source": [
    "!pip install wandb"
   ]
  },
  {
   "cell_type": "code",
   "execution_count": null,
   "metadata": {
    "id": "0tw-sWGWD8cT"
   },
   "outputs": [],
   "source": [
    "import wandb\n",
    "wandb.login(relogin=True)\n",
    "wandb.login()\n",
    "# wandb.__version__"
   ]
  },
  {
   "cell_type": "markdown",
   "source": [
    "Change the directory to where the source was uploaded"
   ],
   "metadata": {
    "collapsed": false,
    "id": "UDOEeG3OOvGo"
   }
  },
  {
   "cell_type": "code",
   "execution_count": null,
   "metadata": {
    "id": "CIUfv6y1GzkK"
   },
   "outputs": [],
   "source": [
    "cd /content/drive/MyDrive/Project/step2-3"
   ]
  },
  {
   "cell_type": "markdown",
   "source": [
    "Import some underlying functions"
   ],
   "metadata": {
    "collapsed": false,
    "id": "3uasDzU0OvGo"
   }
  },
  {
   "cell_type": "code",
   "execution_count": null,
   "metadata": {
    "id": "lzl87vnBGbtY"
   },
   "outputs": [],
   "source": [
    "import torch\n",
    "from torch import nn\n",
    "import torch.optim as optim\n",
    "from torch.utils.data import Subset, DataLoader\n",
    "\n",
    "import time\n",
    "import importlib\n",
    "import warnings"
   ]
  },
  {
   "cell_type": "markdown",
   "source": [
    "Specify the path of Datasets"
   ],
   "metadata": {
    "collapsed": false,
    "id": "T5cLZ6TVOvGp"
   }
  },
  {
   "cell_type": "code",
   "execution_count": null,
   "outputs": [],
   "source": [
    "DATA_DIR = '/content/drive/MyDrive/DATASET/'"
   ],
   "metadata": {
    "id": "h2Wf8C3WOvGp"
   }
  },
  {
   "cell_type": "markdown",
   "source": [
    "Set the argumentation of hyperparameters"
   ],
   "metadata": {
    "collapsed": false,
    "id": "woG3o4pXOvGp"
   }
  },
  {
   "cell_type": "code",
   "execution_count": null,
   "metadata": {
    "id": "nXA3U2E8Bzd2"
   },
   "outputs": [],
   "source": [
    "# Framework:\n",
    "# 'centralized' -----Centralized Semantic Segmentation learning\n",
    "# 'Federated' -----Federated Semantic Segmentation learning\n",
    "\n",
    "# DATASET Partition: A/B\n",
    "# Clients type: uniform/heterogeneous\n",
    "\n",
    "# When set the framework to 'federated' the clients_type should be specified correspondingly\n",
    "# !!!set random_seed to None if it needs to drop the DDP\n",
    "\n",
    "import dataset\n",
    "from utils import parse_args, modify_command_options\n",
    "from run import run_experiment\n",
    "\n",
    "parser = parse_args()\n",
    "args = parser.parse_args(['--framework', 'federated', '--dataset', 'cityscapes', '--partition', 'A'])\n",
    "\n",
    "args.device_ids = [0]\n",
    "args.random_seed = 0\n",
    "args.wandb_entity = 'feddrive2023'\n",
    "args.mixed_precision = True\n",
    "args.ignore_warnings = True\n",
    "\n",
    "args.save_samples = True\n",
    "\n",
    "args.num_rounds = 1\n",
    "args.clients_per_round = 1\n",
    "args.num_epochs = 30\n",
    "\n",
    "args.hnm = True\n",
    "args.output_aux = True\n",
    "args.batch_size = 16\n",
    "args.eval_interval = 1\n",
    "args.test_batch_size = 1\n",
    "\n",
    "args.server_opt = 'SGD'\n",
    "args.weight_decay = 0.0005\n",
    "args.custom_lr_param = True\n",
    "\n",
    "args.lr = 0.15 #0.007, 0.01, 0.015, 0.02, 0.025, 0.05, 0.1, 0.125, 0.15, 0.2\n",
    "args.lr_policy = 'poly'\n",
    "args.lr_power = 0.9\n",
    "\n",
    "args.jitter = True\n",
    "args.rrc_transform = True\n",
    "args.min_scale = 0.5\n",
    "args.max_scale = 1.5\n",
    "args.h_resize = 512\n",
    "args.w_resize = 1024\n",
    "\n",
    "if args.framework == 'federated':\n",
    "  args.clients_type = 'uniform'\n",
    "  args.double_dataset = True\n",
    "  args.name = f'cityscapes_{args.clients_type}'\n",
    "  args.avg_last_100 = True\n",
    "  args.num_rounds = 60\n",
    "  args.clients_per_round = 5\n",
    "  args.num_epochs = 3\n",
    "  args.server_opt = 'SGD'\n",
    "  args.weight_decay = 0.0005\n",
    "  args.momentum = 0.9\n",
    "  args.server_opt = 'SGD'\n",
    "  args.server_lr = 1\n",
    "  args.server_momentum = 0\n",
    "\n",
    "args = modify_command_options(args)\n",
    "\n",
    "print(args)"
   ]
  },
  {
   "cell_type": "markdown",
   "source": [
    "Execute the experiment"
   ],
   "metadata": {
    "collapsed": false,
    "id": "eFE8GFkBOvGq"
   }
  },
  {
   "cell_type": "code",
   "execution_count": null,
   "metadata": {
    "id": "SZzUVKexrNcv"
   },
   "outputs": [],
   "source": [
    "if args.ignore_warnings:\n",
    "  warnings.filterwarnings(\"ignore\")\n",
    "\n",
    "start = time.time()\n",
    "\n",
    "run_experiment(args)\n",
    "\n",
    "end = time.time()\n",
    "print(f\"Elapsed time: {round(end - start, 2)}\")"
   ]
  }
 ],
 "metadata": {
  "accelerator": "GPU",
  "colab": {
   "provenance": []
  },
  "gpuClass": "standard",
  "kernelspec": {
   "display_name": "Python 3",
   "name": "python3"
  },
  "language_info": {
   "name": "python"
  }
 },
 "nbformat": 4,
 "nbformat_minor": 0
}
