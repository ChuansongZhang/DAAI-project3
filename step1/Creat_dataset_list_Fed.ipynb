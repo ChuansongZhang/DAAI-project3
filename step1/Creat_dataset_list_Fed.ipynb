{
 "nbformat": 4,
 "nbformat_minor": 0,
 "metadata": {
  "colab": {
   "provenance": [],
   "authorship_tag": "ABX9TyOsQkTL8r/rQt64a2FawwDK"
  },
  "kernelspec": {
   "name": "python3",
   "display_name": "Python 3"
  },
  "language_info": {
   "name": "python"
  }
 },
 "cells": [
  {
   "cell_type": "code",
   "source": [
    "from google.colab import drive\n",
    "drive.mount(\"/content/drive/\", force_remount=True)"
   ],
   "metadata": {
    "colab": {
     "base_uri": "https://localhost:8080/"
    },
    "id": "uPakpchaEyT6",
    "executionInfo": {
     "status": "ok",
     "timestamp": 1684586150294,
     "user_tz": -120,
     "elapsed": 19814,
     "user": {
      "displayName": "chuansong zhang",
      "userId": "06345290858119195804"
     }
    },
    "outputId": "9f8e20a6-1e0d-46fb-ff64-77ef2092fd53"
   },
   "execution_count": null,
   "outputs": []
  },
  {
   "cell_type": "code",
   "execution_count": null,
   "metadata": {
    "id": "AbGTKv7067n5"
   },
   "outputs": [],
   "source": [
    "from collections import defaultdict\n",
    "import os\n",
    "import json"
   ]
  },
  {
   "cell_type": "code",
   "source": [
    "# trainA_I\n",
    "data_dir = '/content/drive/MyDrive/DATASET/cityscapes/federated/uniform/client_A'\n",
    "user_data = {}\n",
    "for i in range(0, 36):\n",
    "  txt = f'client{i}.txt'\n",
    "  file_path = os.path.join(data_dir, txt)\n",
    "  with open(file_path, 'r') as A_I:\n",
    "        images_list = A_I.read().splitlines()#delete '/n'\n",
    "        # print(images_list)\n",
    "  file_names = []\n",
    "  labels = []\n",
    "  txt = txt.replace('.txt', '')\n",
    "  # print(txt)\n",
    "  for row in images_list:\n",
    "    row = row.split('/')[1]\n",
    "    file_names.append(str(row))\n",
    "    row = row.split('_')\n",
    "    labels.append(str(row[0] + '_' + row[1] + '_' + row[2] + '_' 'gtFine_labelIds.png'))\n",
    "  client : dict = {\"x\": file_names, \"y\": labels}\n",
    "  user = {txt: client}\n",
    "  # print(client)\n",
    "  # print(user)\n",
    "  user_data.update(user)\n",
    "print(user_data)\n",
    "user_data['client0']"
   ],
   "metadata": {
    "id": "i4u64sVG7D5T"
   },
   "execution_count": null,
   "outputs": []
  },
  {
   "cell_type": "code",
   "source": [
    "users = []\n",
    "samples = [20, 20, 20, 20, 20,\n",
    "          20, 20, 20, 20, 20,\n",
    "          20, 19, 20, 20, 20,\n",
    "          20, 20, 20, 20, 20,\n",
    "          20, 20, 20, 20, 20,\n",
    "          20, 20, 20, 20, 20,\n",
    "          20, 20, 20, 20, 19, 10]\n",
    "for i in range(0, 36):\n",
    "  txt = f'client{i}'\n",
    "  users.append(txt)\n",
    "client_A_I = {\"users\": users,\n",
    "          \"num_samples\": samples,\n",
    "          \"user_data\": user_data}\n",
    "# print(client)\n",
    "print(type(client_A_I))"
   ],
   "metadata": {
    "colab": {
     "base_uri": "https://localhost:8080/"
    },
    "id": "4pjxEVlXBcal",
    "executionInfo": {
     "status": "ok",
     "timestamp": 1684538247374,
     "user_tz": -120,
     "elapsed": 215,
     "user": {
      "displayName": "chuansong zhang",
      "userId": "06345290858119195804"
     }
    },
    "outputId": "a1355a13-bc8c-4ac5-a344-b67a9be4b114"
   },
   "execution_count": null,
   "outputs": []
  },
  {
   "cell_type": "code",
   "source": [
    "json_str = json.dumps(client_A_I)\n",
    "# print(json_str)\n",
    "print(type(json_str))\n",
    "new_dict = json.loads(json_str)\n",
    "with open('/content/drive/MyDrive/DATASET/cityscapes/federated/uniform/train/train_A/train_A_I.json', 'w') as f:\n",
    "  json.dump(new_dict, f)"
   ],
   "metadata": {
    "colab": {
     "base_uri": "https://localhost:8080/"
    },
    "id": "bzCsoWxsACFF",
    "executionInfo": {
     "status": "ok",
     "timestamp": 1684538335892,
     "user_tz": -120,
     "elapsed": 215,
     "user": {
      "displayName": "chuansong zhang",
      "userId": "06345290858119195804"
     }
    },
    "outputId": "0e578921-567c-4aa3-b548-6dc0d4af5c27"
   },
   "execution_count": null,
   "outputs": []
  },
  {
   "cell_type": "code",
   "source": [
    "with open('/content/drive/MyDrive/DATASET/cityscapes/federated/uniform/train/train_A/train_A_I.json', 'r') as f:\n",
    "  new_dict = json.load(f)\n",
    "  print(new_dict)\n",
    "  print(type(new_dict))"
   ],
   "metadata": {
    "colab": {
     "base_uri": "https://localhost:8080/"
    },
    "id": "-HsLiaQQT1xO",
    "executionInfo": {
     "status": "ok",
     "timestamp": 1684538379574,
     "user_tz": -120,
     "elapsed": 247,
     "user": {
      "displayName": "chuansong zhang",
      "userId": "06345290858119195804"
     }
    },
    "outputId": "59fabfc4-3c94-4161-da2e-f68f86b8ddec"
   },
   "execution_count": null,
   "outputs": []
  },
  {
   "cell_type": "code",
   "source": [
    "# trainA_II\n",
    "data_dir = '/content/drive/MyDrive/DATASET/cityscapes/federated/heterogeneous/client_A/'\n",
    "user_data = {}\n",
    "name = []\n",
    "files = os.listdir(data_dir)\n",
    "files = [f for f in files if f.endswith('.txt')]\n",
    "for f in files:\n",
    "  file_path = os.path.join(data_dir, f)\n",
    "  with open(file_path, 'r') as A_II:\n",
    "        images_list = A_II.read().splitlines()#delete '/n'\n",
    "        # print(images_list)\n",
    "  file_names = []\n",
    "  labels = []\n",
    "  # print(txt)\n",
    "  for row in images_list:\n",
    "    row = row.split('/')[1]\n",
    "    file_names.append(str(row))\n",
    "    row = row.split('_')\n",
    "    labels.append(str(row[0] + '_' + row[1] + '_' + row[2] + '_' 'gtFine_labelIds.png'))\n",
    "  client : dict = {\"x\": file_names, \"y\": labels}\n",
    "  f = f.replace('.txt', '')\n",
    "  user = {f: client}\n",
    "  name.append(f)\n",
    "  # print(client)\n",
    "  # print(user)\n",
    "  user_data.update(user)\n",
    "print(user_data)\n",
    "print(name)"
   ],
   "metadata": {
    "colab": {
     "base_uri": "https://localhost:8080/"
    },
    "id": "QF8mo0rrUhW-",
    "executionInfo": {
     "status": "ok",
     "timestamp": 1684539298128,
     "user_tz": -120,
     "elapsed": 242,
     "user": {
      "displayName": "chuansong zhang",
      "userId": "06345290858119195804"
     }
    },
    "outputId": "ee491e04-2834-4873-a49d-552effc5aea2"
   },
   "execution_count": null,
   "outputs": []
  },
  {
   "cell_type": "code",
   "source": [
    "samples = [13, 15, 13, 17, 17,\n",
    "          19, 10, 11, 10, 15,\n",
    "          16, 12, 16, 16, 16,\n",
    "          16, 16, 16, 16, 17,\n",
    "          14, 14, 18, 14, 17,\n",
    "          10, 12, 11, 13, 16,\n",
    "          12, 14, 14, 14, 16, \n",
    "          14, 14, 16, 16, 16,\n",
    "          18, 14, 18, 11, 12,\n",
    "          19, 17,17]\n",
    "client_A_II = {\"users\": name,\n",
    "          \"num_samples\": samples,\n",
    "          \"user_data\": user_data}\n",
    "# print(client)\n",
    "print(type(client_A_II))"
   ],
   "metadata": {
    "colab": {
     "base_uri": "https://localhost:8080/"
    },
    "id": "8NDJom68Vwwn",
    "executionInfo": {
     "status": "ok",
     "timestamp": 1684539598246,
     "user_tz": -120,
     "elapsed": 211,
     "user": {
      "displayName": "chuansong zhang",
      "userId": "06345290858119195804"
     }
    },
    "outputId": "d562e232-1571-45e8-8fcf-890619ddcc0c"
   },
   "execution_count": null,
   "outputs": []
  },
  {
   "cell_type": "code",
   "source": [
    "json_str = json.dumps(client_A_II)\n",
    "# print(json_str)\n",
    "print(type(json_str))\n",
    "new_dict = json.loads(json_str)\n",
    "with open('/content/drive/MyDrive/DATASET/cityscapes/federated/heterogeneous/train/train_A/train_A_I.json', 'w') as f:\n",
    "  json.dump(new_dict, f)"
   ],
   "metadata": {
    "colab": {
     "base_uri": "https://localhost:8080/"
    },
    "id": "lfZ5yiTkYpnm",
    "executionInfo": {
     "status": "ok",
     "timestamp": 1684539664599,
     "user_tz": -120,
     "elapsed": 237,
     "user": {
      "displayName": "chuansong zhang",
      "userId": "06345290858119195804"
     }
    },
    "outputId": "f180cdc7-7e24-4bf8-8e89-012651121714"
   },
   "execution_count": null,
   "outputs": []
  },
  {
   "cell_type": "code",
   "source": [
    "with open('/content/drive/MyDrive/DATASET/cityscapes/federated/heterogeneous/train/train_A/train_A_I.json', 'r') as f:\n",
    "  new_dict = json.load(f)\n",
    "  print(new_dict)\n",
    "  print(type(new_dict))"
   ],
   "metadata": {
    "colab": {
     "base_uri": "https://localhost:8080/"
    },
    "id": "Tgw84fkoYw4K",
    "executionInfo": {
     "status": "ok",
     "timestamp": 1684539666994,
     "user_tz": -120,
     "elapsed": 240,
     "user": {
      "displayName": "chuansong zhang",
      "userId": "06345290858119195804"
     }
    },
    "outputId": "a6570846-9117-46da-d2d1-ddd8595f0f88"
   },
   "execution_count": null,
   "outputs": []
  },
  {
   "cell_type": "code",
   "source": [
    "# trainB_I\n",
    "data_dir = '/content/drive/MyDrive/DATASET/cityscapes/federated/uniform/client_B'\n",
    "user_data = {}\n",
    "for i in range(0, 25):\n",
    "  txt = f'client{i}.txt'\n",
    "  file_path = os.path.join(data_dir, txt)\n",
    "  with open(file_path, 'r') as B_I:\n",
    "        images_list = B_I.read().splitlines()#delete '/n'\n",
    "        # print(images_list)\n",
    "  file_names = []\n",
    "  labels = []\n",
    "  txt = txt.replace('.txt', '')\n",
    "  # print(txt)\n",
    "  for row in images_list:\n",
    "    row = row.split('/')[1]\n",
    "    file_names.append(str(row))\n",
    "    row = row.split('_')\n",
    "    labels.append(str(row[0] + '_' + row[1] + '_' + row[2] + '_' 'gtFine_labelIds.png'))\n",
    "  client : dict = {\"x\": file_names, \"y\": labels}\n",
    "  user = {txt: client}\n",
    "  # print(client)\n",
    "  # print(user)\n",
    "  user_data.update(user)\n",
    "print(user_data)\n",
    "user_data['client0']"
   ],
   "metadata": {
    "id": "DFp2I8VXJPkR"
   },
   "execution_count": null,
   "outputs": []
  },
  {
   "cell_type": "code",
   "source": [
    "users = []\n",
    "samples = [20, 20, 20, 20, 20,\n",
    "          20, 20, 20, 20, 20,\n",
    "          20, 19, 20, 20, 20,\n",
    "          20, 20, 20, 20, 20,\n",
    "          20, 20, 20, 20, 20]\n",
    "for i in range(0, 25):\n",
    "  txt = f'client{i}'\n",
    "  users.append(txt)\n",
    "client_B_I = {\"users\": users,\n",
    "          \"num_samples\": samples,\n",
    "          \"user_data\": user_data}\n",
    "print(client_B_I)\n",
    "print(type(client_B_I))"
   ],
   "metadata": {
    "colab": {
     "base_uri": "https://localhost:8080/"
    },
    "id": "uy_tV_W3Jt_G",
    "executionInfo": {
     "status": "ok",
     "timestamp": 1684586257611,
     "user_tz": -120,
     "elapsed": 286,
     "user": {
      "displayName": "chuansong zhang",
      "userId": "06345290858119195804"
     }
    },
    "outputId": "09462989-2341-4d8e-9e5a-1eb804038ccf"
   },
   "execution_count": null,
   "outputs": []
  },
  {
   "cell_type": "code",
   "source": [
    "json_str = json.dumps(client_B_I)\n",
    "# print(json_str)\n",
    "print(type(json_str))\n",
    "new_dict = json.loads(json_str)\n",
    "with open('/content/drive/MyDrive/DATASET/cityscapes/federated/uniform/train/train_B/train_B_I.json', 'w') as f:\n",
    "  json.dump(new_dict, f)"
   ],
   "metadata": {
    "colab": {
     "base_uri": "https://localhost:8080/"
    },
    "id": "zimDjCQDKqUH",
    "executionInfo": {
     "status": "ok",
     "timestamp": 1684586350742,
     "user_tz": -120,
     "elapsed": 507,
     "user": {
      "displayName": "chuansong zhang",
      "userId": "06345290858119195804"
     }
    },
    "outputId": "b346955e-121d-4566-b140-989f02700e70"
   },
   "execution_count": null,
   "outputs": []
  },
  {
   "cell_type": "code",
   "source": [
    "with open('/content/drive/MyDrive/DATASET/cityscapes/federated/uniform/train/train_B/train_B_I.json', 'r') as f:\n",
    "  new_dict = json.load(f)\n",
    "  print(new_dict)\n",
    "  print(type(new_dict))"
   ],
   "metadata": {
    "colab": {
     "base_uri": "https://localhost:8080/"
    },
    "id": "J46jZeJbK565",
    "executionInfo": {
     "status": "ok",
     "timestamp": 1684586353023,
     "user_tz": -120,
     "elapsed": 272,
     "user": {
      "displayName": "chuansong zhang",
      "userId": "06345290858119195804"
     }
    },
    "outputId": "f992954c-1182-478d-8b41-18dcab0c25fe"
   },
   "execution_count": null,
   "outputs": []
  },
  {
   "cell_type": "code",
   "source": [
    "# trainB_II\n",
    "data_dir = '/content/drive/MyDrive/DATASET/cityscapes/federated/heterogeneous/client_B/'\n",
    "user_data = {}\n",
    "name = []\n",
    "files = os.listdir(data_dir)\n",
    "files = [f for f in files if f.endswith('.txt')]\n",
    "for f in files:\n",
    "  file_path = os.path.join(data_dir, f)\n",
    "  with open(file_path, 'r') as B_II:\n",
    "        images_list = B_II.read().splitlines()#delete '/n'\n",
    "        # print(images_list)\n",
    "  file_names = []\n",
    "  labels = []\n",
    "  # print(txt)\n",
    "  for row in images_list:\n",
    "    row = row.split('/')[1]\n",
    "    file_names.append(str(row))\n",
    "    row = row.split('_')\n",
    "    labels.append(str(row[0] + '_' + row[1] + '_' + row[2] + '_' 'gtFine_labelIds.png'))\n",
    "  client : dict = {\"x\": file_names, \"y\": labels}\n",
    "  f = f.replace('.txt', '')\n",
    "  user = {f: client}\n",
    "  name.append(f)\n",
    "  # print(client)\n",
    "  # print(user)\n",
    "  user_data.update(user)\n",
    "print(user_data)\n",
    "print(name)\n",
    "\n",
    "samples = [18, 12, 15, 18, 18,\n",
    "          19, 12, 11, 12, 16,\n",
    "          17, 14, 16, 16, 16,\n",
    "          16, 17, 12, 12, 13,\n",
    "          14, 17, 17, 17, 17,\n",
    "          17, 17, 12, 13, 10,\n",
    "          11, 19, 19]\n",
    "client_B_II = {\"users\": name,\n",
    "          \"num_samples\": samples,\n",
    "          \"user_data\": user_data}\n",
    "# print(client)\n",
    "print(type(client_B_II))\n",
    "\n",
    "json_str = json.dumps(client_B_II)\n",
    "# print(json_str)\n",
    "print(type(json_str))\n",
    "new_dict = json.loads(json_str)\n",
    "with open('/content/drive/MyDrive/DATASET/cityscapes/federated/heterogeneous/train/train_B/train_B_II.json', 'w') as f:\n",
    "  json.dump(new_dict, f)\n",
    "\n",
    "with open('/content/drive/MyDrive/DATASET/cityscapes/federated/heterogeneous/train/train_B/train_B_II.json', 'r') as f:\n",
    "  new_dict = json.load(f)\n",
    "  print(new_dict)\n",
    "  print(type(new_dict))"
   ],
   "metadata": {
    "colab": {
     "base_uri": "https://localhost:8080/"
    },
    "id": "6LtrD0ofLEB-",
    "executionInfo": {
     "status": "ok",
     "timestamp": 1684586757576,
     "user_tz": -120,
     "elapsed": 14702,
     "user": {
      "displayName": "chuansong zhang",
      "userId": "06345290858119195804"
     }
    },
    "outputId": "4980d33e-ef31-4774-8199-68b07148b5af"
   },
   "execution_count": null,
   "outputs": []
  }
 ]
}
