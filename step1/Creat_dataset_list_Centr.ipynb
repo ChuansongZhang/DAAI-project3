{
 "nbformat": 4,
 "nbformat_minor": 0,
 "metadata": {
  "colab": {
   "provenance": [],
   "gpuType": "T4",
   "authorship_tag": "ABX9TyNO8Y+rv/pfcfgEyvSKjdzy"
  },
  "kernelspec": {
   "name": "python3",
   "display_name": "Python 3"
  },
  "language_info": {
   "name": "python"
  },
  "gpuClass": "standard"
 },
 "cells": [
  {
   "cell_type": "code",
   "execution_count": null,
   "metadata": {
    "colab": {
     "base_uri": "https://localhost:8080/"
    },
    "id": "E2lItAVFK4aJ",
    "executionInfo": {
     "status": "ok",
     "timestamp": 1684241459131,
     "user_tz": -120,
     "elapsed": 5594,
     "user": {
      "displayName": "chuansong zhang",
      "userId": "06345290858119195804"
     }
    },
    "outputId": "c1ab73cf-8222-4a1a-fd69-3df306766195"
   },
   "outputs": [],
   "source": [
    "from google.colab import drive\n",
    "drive.mount(\"/content/drive/\", force_remount=True)"
   ]
  },
  {
   "cell_type": "code",
   "source": [
    "cd /content/drive/MyDrive/DATASET/Cityscapes"
   ],
   "metadata": {
    "colab": {
     "base_uri": "https://localhost:8080/"
    },
    "id": "Bz9PlUfBLWh6",
    "executionInfo": {
     "status": "ok",
     "timestamp": 1684234156748,
     "user_tz": -120,
     "elapsed": 861,
     "user": {
      "displayName": "chuansong zhang",
      "userId": "06345290858119195804"
     }
    },
    "outputId": "6cf076c3-40cd-4aa5-8c20-a6dd6da06fec"
   },
   "execution_count": null,
   "outputs": []
  },
  {
   "cell_type": "code",
   "source": [
    "ls"
   ],
   "metadata": {
    "colab": {
     "base_uri": "https://localhost:8080/"
    },
    "id": "m8RL9ht2Mq5r",
    "executionInfo": {
     "status": "ok",
     "timestamp": 1684234486678,
     "user_tz": -120,
     "elapsed": 7,
     "user": {
      "displayName": "chuansong zhang",
      "userId": "06345290858119195804"
     }
    },
    "outputId": "33431485-d182-42ff-bc1d-2ad0f3966cdd"
   },
   "execution_count": null,
   "outputs": []
  },
  {
   "cell_type": "code",
   "execution_count": null,
   "outputs": [],
   "source": [
    "import json"
   ],
   "metadata": {
    "collapsed": false
   }
  },
  {
   "cell_type": "markdown",
   "source": [
    "Train Data"
   ],
   "metadata": {
    "collapsed": false
   }
  },
  {
   "cell_type": "code",
   "source": [
    "partition = 'A'\n",
    "train = f'train_{partition}'"
   ],
   "metadata": {
    "id": "rVoh7ULTbno_"
   },
   "execution_count": null,
   "outputs": []
  },
  {
   "cell_type": "code",
   "source": [
    "with open(f'{train}.txt', 'r') as f:\n",
    "        images_list = f.read().splitlines()#delete '/n'\n",
    "        print(images_list)\n",
    "file_names = []\n",
    "labels = []\n",
    "for row in images_list:\n",
    "    row = row.split('/')[1]\n",
    "    file_names.append(row)\n",
    "    row = row.split('_')\n",
    "    labels.append(row[0] + '_' + row[1] + '_' + row[2] + '_' 'gtFine_labelIds.png')\n",
    "\n",
    "# print(file_names, labels)"
   ],
   "metadata": {
    "colab": {
     "base_uri": "https://localhost:8080/"
    },
    "id": "yB_sNk8fMeyU",
    "executionInfo": {
     "status": "ok",
     "timestamp": 1684241473683,
     "user_tz": -120,
     "elapsed": 467,
     "user": {
      "displayName": "chuansong zhang",
      "userId": "06345290858119195804"
     }
    },
    "outputId": "4e73da70-0079-4833-d016-17156f7a7a10"
   },
   "execution_count": null,
   "outputs": []
  },
  {
   "cell_type": "code",
   "source": [
    "train = {\"users\": \"centralized\",\n",
    "         \"user_data\": {\"centralized\":\n",
    "                       {\"x\": file_names,\n",
    "                       \"y\": labels}\n",
    "                       }}\n",
    "# print(train)\n",
    "# print(type(train))"
   ],
   "metadata": {
    "colab": {
     "base_uri": "https://localhost:8080/"
    },
    "id": "TyzWCJQRPA0c",
    "executionInfo": {
     "status": "ok",
     "timestamp": 1684241748230,
     "user_tz": -120,
     "elapsed": 715,
     "user": {
      "displayName": "chuansong zhang",
      "userId": "06345290858119195804"
     }
    },
    "outputId": "80280dc7-c6cc-4f8e-baf2-635656f7fa5b"
   },
   "execution_count": null,
   "outputs": []
  },
  {
   "cell_type": "code",
   "source": [
    "json_str = json.dumps(train)\n",
    "# print(json_str)\n",
    "# print(type(json_str))\n",
    "new_dict = json.loads(json_str)\n",
    "with open(f'{train}.json', 'w') as f:\n",
    "  json.dump(new_dict, f)\n",
    "with open(f'{train}.json', 'r') as f:\n",
    "  new_dict = json.load(f)\n",
    "  # print(new_dict)\n",
    "  # print(type(new_dict))"
   ],
   "metadata": {
    "id": "MvkJkRzGU-hk"
   },
   "execution_count": null,
   "outputs": []
  },
  {
   "cell_type": "markdown",
   "source": [
    "Test Data"
   ],
   "metadata": {
    "collapsed": false
   }
  },
  {
   "cell_type": "code",
   "execution_count": null,
   "outputs": [],
   "source": [
    "partition = 'A'\n",
    "val = f'test_{partition}'"
   ],
   "metadata": {
    "collapsed": false
   }
  },
  {
   "cell_type": "code",
   "source": [
    "with open(f'{val}.txt', 'r') as f:\n",
    "        images_list = f.read().splitlines()#delete '/n'\n",
    "        print(images_list)\n",
    "file_names = []\n",
    "labels = []\n",
    "for row in images_list:\n",
    "    row = row.split('/')[1]\n",
    "    file_names.append(row)\n",
    "    row = row.split('_')\n",
    "    labels.append(row[0] + '_' + row[1] + '_' + row[2] + '_' 'gtFine_labelIds.png')\n",
    "\n",
    "# print(file_names)\n",
    "# print(labels)"
   ],
   "metadata": {
    "colab": {
     "base_uri": "https://localhost:8080/"
    },
    "id": "hdjXmCYMok5Y",
    "executionInfo": {
     "status": "ok",
     "timestamp": 1684243502596,
     "user_tz": -120,
     "elapsed": 1875,
     "user": {
      "displayName": "chuansong zhang",
      "userId": "06345290858119195804"
     }
    },
    "outputId": "d12954de-b9cb-402c-ab0f-5b51088a2b54"
   },
   "execution_count": null,
   "outputs": []
  },
  {
   "cell_type": "code",
   "source": [
    "val = {\"users\": \"test_user\",\n",
    "         \"user_data\": {\"test_user\":\n",
    "                       {\"x\": file_names,\n",
    "                       \"y\": labels}\n",
    "                       }}\n",
    "# print(val)\n",
    "# print(type(val))"
   ],
   "metadata": {
    "colab": {
     "base_uri": "https://localhost:8080/"
    },
    "id": "jhhX_xl1osto",
    "executionInfo": {
     "status": "ok",
     "timestamp": 1684243513347,
     "user_tz": -120,
     "elapsed": 1005,
     "user": {
      "displayName": "chuansong zhang",
      "userId": "06345290858119195804"
     }
    },
    "outputId": "1d9b428e-a7f4-4e52-8344-63a4b0573f8e"
   },
   "execution_count": null,
   "outputs": []
  },
  {
   "cell_type": "code",
   "source": [
    "json_str = json.dumps(val)\n",
    "new_dict = json.loads(json_str)\n",
    "with open('val_A.json', 'w') as f:\n",
    "  json.dump(new_dict, f)\n",
    "with open('val_A.json', 'r') as f:\n",
    "  new_dict = json.load(f)\n",
    "# print(new_dict)\n",
    "# print(type(new_dict))"
   ],
   "metadata": {
    "colab": {
     "base_uri": "https://localhost:8080/"
    },
    "id": "HjGOPmNYpZkg",
    "executionInfo": {
     "status": "ok",
     "timestamp": 1684243517676,
     "user_tz": -120,
     "elapsed": 1460,
     "user": {
      "displayName": "chuansong zhang",
      "userId": "06345290858119195804"
     }
    },
    "outputId": "6fcb1fbc-e48f-4cd3-91fe-4e3ed9a3d8f2"
   },
   "execution_count": null,
   "outputs": []
  }
 ]
}
